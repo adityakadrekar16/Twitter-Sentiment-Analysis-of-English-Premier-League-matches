{
  "nbformat": 4,
  "nbformat_minor": 0,
  "metadata": {
    "colab": {
      "name": "twitter.ipynb",
      "version": "0.3.2",
      "provenance": [],
      "collapsed_sections": [],
      "toc_visible": true
    },
    "kernelspec": {
      "name": "python3",
      "display_name": "Python 3"
    }
  },
  "cells": [
    {
      "metadata": {
        "id": "jV7d7dpniRlR",
        "colab_type": "text"
      },
      "cell_type": "markdown",
      "source": [
        "Add ideas\n",
        "\n",
        "\n",
        "*   Remove unnecessary hastags from tweets\n",
        "*   Add unique id to each tweet\n",
        "*   How to deal with tweets which images/videos/gifs embedded? There are hyperlinks\n",
        "*   There will be very few words which will be repeated in a tweet so what do we do with the tfidf?\n",
        "\n",
        "\n",
        "\n",
        "\n"
      ]
    },
    {
      "metadata": {
        "id": "vCWKOz6DLW7o",
        "colab_type": "code",
        "colab": {}
      },
      "cell_type": "code",
      "source": [
        "#pip install pyenchant"
      ],
      "execution_count": 0,
      "outputs": []
    },
    {
      "metadata": {
        "id": "modUiDFFs8_y",
        "colab_type": "code",
        "colab": {}
      },
      "cell_type": "code",
      "source": [
        "import pandas as pd\n",
        "from nltk import wordpunct_tokenize\n",
        "#import pyenchant"
      ],
      "execution_count": 0,
      "outputs": []
    },
    {
      "metadata": {
        "id": "GmR-3tj2tDeN",
        "colab_type": "code",
        "colab": {}
      },
      "cell_type": "code",
      "source": [
        "df = pd.read_csv('arsmun.csv')"
      ],
      "execution_count": 0,
      "outputs": []
    },
    {
      "metadata": {
        "id": "n7XcHc2SHYhG",
        "colab_type": "code",
        "outputId": "765c3bcd-7bd5-4ae6-a146-cc52633b97a3",
        "colab": {
          "base_uri": "https://localhost:8080/",
          "height": 297
        }
      },
      "cell_type": "code",
      "source": [
        "df.describe()"
      ],
      "execution_count": 66,
      "outputs": [
        {
          "output_type": "execute_result",
          "data": {
            "text/html": [
              "<div>\n",
              "<style scoped>\n",
              "    .dataframe tbody tr th:only-of-type {\n",
              "        vertical-align: middle;\n",
              "    }\n",
              "\n",
              "    .dataframe tbody tr th {\n",
              "        vertical-align: top;\n",
              "    }\n",
              "\n",
              "    .dataframe thead th {\n",
              "        text-align: right;\n",
              "    }\n",
              "</style>\n",
              "<table border=\"1\" class=\"dataframe\">\n",
              "  <thead>\n",
              "    <tr style=\"text-align: right;\">\n",
              "      <th></th>\n",
              "      <th>retweets</th>\n",
              "      <th>favorites</th>\n",
              "      <th>id</th>\n",
              "    </tr>\n",
              "  </thead>\n",
              "  <tbody>\n",
              "    <tr>\n",
              "      <th>count</th>\n",
              "      <td>37468.000000</td>\n",
              "      <td>37468.000000</td>\n",
              "      <td>3.746700e+04</td>\n",
              "    </tr>\n",
              "    <tr>\n",
              "      <th>mean</th>\n",
              "      <td>3.022846</td>\n",
              "      <td>8.696141</td>\n",
              "      <td>1.104800e+18</td>\n",
              "    </tr>\n",
              "    <tr>\n",
              "      <th>std</th>\n",
              "      <td>124.392768</td>\n",
              "      <td>284.185485</td>\n",
              "      <td>1.589528e+13</td>\n",
              "    </tr>\n",
              "    <tr>\n",
              "      <th>min</th>\n",
              "      <td>0.000000</td>\n",
              "      <td>0.000000</td>\n",
              "      <td>1.104740e+18</td>\n",
              "    </tr>\n",
              "    <tr>\n",
              "      <th>25%</th>\n",
              "      <td>0.000000</td>\n",
              "      <td>0.000000</td>\n",
              "      <td>1.104790e+18</td>\n",
              "    </tr>\n",
              "    <tr>\n",
              "      <th>50%</th>\n",
              "      <td>0.000000</td>\n",
              "      <td>0.000000</td>\n",
              "      <td>1.104800e+18</td>\n",
              "    </tr>\n",
              "    <tr>\n",
              "      <th>75%</th>\n",
              "      <td>0.000000</td>\n",
              "      <td>1.000000</td>\n",
              "      <td>1.104810e+18</td>\n",
              "    </tr>\n",
              "    <tr>\n",
              "      <th>max</th>\n",
              "      <td>15449.000000</td>\n",
              "      <td>35876.000000</td>\n",
              "      <td>1.104840e+18</td>\n",
              "    </tr>\n",
              "  </tbody>\n",
              "</table>\n",
              "</div>"
            ],
            "text/plain": [
              "           retweets     favorites            id\n",
              "count  37468.000000  37468.000000  3.746700e+04\n",
              "mean       3.022846      8.696141  1.104800e+18\n",
              "std      124.392768    284.185485  1.589528e+13\n",
              "min        0.000000      0.000000  1.104740e+18\n",
              "25%        0.000000      0.000000  1.104790e+18\n",
              "50%        0.000000      0.000000  1.104800e+18\n",
              "75%        0.000000      1.000000  1.104810e+18\n",
              "max    15449.000000  35876.000000  1.104840e+18"
            ]
          },
          "metadata": {
            "tags": []
          },
          "execution_count": 66
        }
      ]
    },
    {
      "metadata": {
        "id": "GljJAUYRHZ_k",
        "colab_type": "code",
        "colab": {}
      },
      "cell_type": "code",
      "source": [
        "df = df.drop(columns = ['Unnamed: 9', 'Unnamed: 10', 'Unnamed: 12', 'Unnamed: 11', 'Unnamed: 13'])"
      ],
      "execution_count": 0,
      "outputs": []
    },
    {
      "metadata": {
        "id": "K49LbOZYtGcH",
        "colab_type": "code",
        "outputId": "bd55a085-7037-436e-fccb-3218ed7b96be",
        "colab": {
          "base_uri": "https://localhost:8080/",
          "height": 34
        }
      },
      "cell_type": "code",
      "source": [
        "df.shape"
      ],
      "execution_count": 6,
      "outputs": [
        {
          "output_type": "execute_result",
          "data": {
            "text/plain": [
              "(47000, 9)"
            ]
          },
          "metadata": {
            "tags": []
          },
          "execution_count": 6
        }
      ]
    },
    {
      "metadata": {
        "id": "JN5libk0tNBa",
        "colab_type": "code",
        "colab": {}
      },
      "cell_type": "code",
      "source": [
        "# converting the string date to datetime format\n",
        "df['date'] = pd.to_datetime(df['date'])"
      ],
      "execution_count": 0,
      "outputs": []
    },
    {
      "metadata": {
        "id": "s_ioLrPZrErv",
        "colab_type": "text"
      },
      "cell_type": "markdown",
      "source": [
        "### finding duplicate values"
      ]
    },
    {
      "metadata": {
        "id": "naHYId48ubXb",
        "colab_type": "code",
        "outputId": "2f66cc5b-e4fa-4509-c8c3-490a52d1817f",
        "colab": {
          "base_uri": "https://localhost:8080/",
          "height": 34
        }
      },
      "cell_type": "code",
      "source": [
        "df[df['text'].duplicated() == True].shape"
      ],
      "execution_count": 8,
      "outputs": [
        {
          "output_type": "execute_result",
          "data": {
            "text/plain": [
              "(1745, 9)"
            ]
          },
          "metadata": {
            "tags": []
          },
          "execution_count": 8
        }
      ]
    },
    {
      "metadata": {
        "id": "crTQCXe1SmmK",
        "colab_type": "text"
      },
      "cell_type": "markdown",
      "source": [
        "### removing duplicate values"
      ]
    },
    {
      "metadata": {
        "id": "wahvxiJXSl_X",
        "colab_type": "code",
        "colab": {}
      },
      "cell_type": "code",
      "source": [
        "df = df.drop_duplicates('text', keep='last')"
      ],
      "execution_count": 0,
      "outputs": []
    },
    {
      "metadata": {
        "id": "fooaou09tB-z",
        "colab_type": "code",
        "colab": {}
      },
      "cell_type": "code",
      "source": [
        "# token to separate words into list\n",
        "# >>> from nltk import wordpunct_tokenize\n",
        "# >>> wordpunct_tokenize(\"That's thirty minutes away. I'll be there in ten.\")\n",
        "# ['That', \"'\", 's', 'thirty', 'minutes', 'away', '.', 'I', \"'\", 'll', 'be', 'there', 'in', 'ten', '.']"
      ],
      "execution_count": 0,
      "outputs": []
    },
    {
      "metadata": {
        "id": "zfkacoqOzq96",
        "colab_type": "code",
        "colab": {}
      },
      "cell_type": "code",
      "source": [
        "# to check if word is in english\n",
        "# >>> import enchant\n",
        "# >>> d = enchant.Dict(\"en_US\")\n",
        "# >>> d.check(\"Hello\")\n",
        "# True\n",
        "# >>> d.check(\"Helo\")\n",
        "# False\n",
        "# >>> d.suggest(\"Helo\")\n",
        "# ['He lo', 'He-lo', 'Hello', 'Helot', 'Help', 'Halo', 'Hell', 'Held', 'Helm', 'Hero', \"He'll\"]"
      ],
      "execution_count": 0,
      "outputs": []
    },
    {
      "metadata": {
        "id": "AYSHSGgy9MRm",
        "colab_type": "code",
        "outputId": "b699fd6a-5786-4220-da9f-7a28898ae993",
        "colab": {
          "base_uri": "https://localhost:8080/",
          "height": 151
        }
      },
      "cell_type": "code",
      "source": [
        "df[df['text'] == '#ARSMUN via @premierleague http://www. premierleague.com/match/38598']"
      ],
      "execution_count": 12,
      "outputs": [
        {
          "output_type": "execute_result",
          "data": {
            "text/html": [
              "<div>\n",
              "<style scoped>\n",
              "    .dataframe tbody tr th:only-of-type {\n",
              "        vertical-align: middle;\n",
              "    }\n",
              "\n",
              "    .dataframe tbody tr th {\n",
              "        vertical-align: top;\n",
              "    }\n",
              "\n",
              "    .dataframe thead th {\n",
              "        text-align: right;\n",
              "    }\n",
              "</style>\n",
              "<table border=\"1\" class=\"dataframe\">\n",
              "  <thead>\n",
              "    <tr style=\"text-align: right;\">\n",
              "      <th></th>\n",
              "      <th>date</th>\n",
              "      <th>retweets</th>\n",
              "      <th>favorites</th>\n",
              "      <th>text</th>\n",
              "      <th>geo</th>\n",
              "      <th>mentions</th>\n",
              "      <th>hashtags</th>\n",
              "      <th>id</th>\n",
              "      <th>permalink</th>\n",
              "    </tr>\n",
              "  </thead>\n",
              "  <tbody>\n",
              "    <tr>\n",
              "      <th>46881</th>\n",
              "      <td>2019-03-10 09:13:00</td>\n",
              "      <td>0</td>\n",
              "      <td>0</td>\n",
              "      <td>#ARSMUN via @premierleague http://www. premier...</td>\n",
              "      <td>NaN</td>\n",
              "      <td>@premierleague</td>\n",
              "      <td>#ARSMUN</td>\n",
              "      <td>1.104750e+18</td>\n",
              "      <td>https://twitter.com/PetrusP30565974/status/110...</td>\n",
              "    </tr>\n",
              "  </tbody>\n",
              "</table>\n",
              "</div>"
            ],
            "text/plain": [
              "                     date  retweets  favorites  \\\n",
              "46881 2019-03-10 09:13:00         0          0   \n",
              "\n",
              "                                                    text  geo        mentions  \\\n",
              "46881  #ARSMUN via @premierleague http://www. premier...  NaN  @premierleague   \n",
              "\n",
              "      hashtags            id  \\\n",
              "46881  #ARSMUN  1.104750e+18   \n",
              "\n",
              "                                               permalink  \n",
              "46881  https://twitter.com/PetrusP30565974/status/110...  "
            ]
          },
          "metadata": {
            "tags": []
          },
          "execution_count": 12
        }
      ]
    },
    {
      "metadata": {
        "id": "bhmKg6HjGsQU",
        "colab_type": "code",
        "colab": {}
      },
      "cell_type": "code",
      "source": [
        "# remove records which have no tweets\n",
        "df = df[df['text'].notnull()]"
      ],
      "execution_count": 0,
      "outputs": []
    },
    {
      "metadata": {
        "id": "a1tTHDkgOi3E",
        "colab_type": "code",
        "colab": {}
      },
      "cell_type": "code",
      "source": [
        "# remove records which have no tweets\n",
        "df = df[df['permalink'].notnull()]"
      ],
      "execution_count": 0,
      "outputs": []
    },
    {
      "metadata": {
        "id": "AUucUWtwexRc",
        "colab_type": "code",
        "outputId": "7598ab6e-e298-4cf2-c8d4-2caf08b80772",
        "colab": {
          "base_uri": "https://localhost:8080/",
          "height": 34
        }
      },
      "cell_type": "code",
      "source": [
        "df.shape"
      ],
      "execution_count": 15,
      "outputs": [
        {
          "output_type": "execute_result",
          "data": {
            "text/plain": [
              "(37468, 9)"
            ]
          },
          "metadata": {
            "tags": []
          },
          "execution_count": 15
        }
      ]
    },
    {
      "metadata": {
        "id": "g96JYP-Jdp6a",
        "colab_type": "text"
      },
      "cell_type": "markdown",
      "source": [
        "### creating a new dataframe for arsenal"
      ]
    },
    {
      "metadata": {
        "id": "1AdIPOtUXxY_",
        "colab_type": "code",
        "colab": {}
      },
      "cell_type": "code",
      "source": [
        "# filtering data for Arsenal dataset\n",
        "arsenal = df[df['text'].str.contains('Arsenal')]\n",
        "ozil = df[df['text'].str.contains('Ozil')]\n",
        "auba = df[df['text'].str.contains('Auba')]\n",
        "emery = df[df['text'].str.contains('Emery')]\n",
        "xhaka = df[df['text'].str.contains('Xhaka')]\n",
        "emirates = df[df['text'].str.contains('Emirates')]\n",
        "gunner = df[df['text'].str.contains('Gunner')]\n",
        "leno = df[df['text'].str.contains('Leno')]\n",
        "afc = df[df['text'].str.contains('#AFC')]"
      ],
      "execution_count": 0,
      "outputs": []
    },
    {
      "metadata": {
        "id": "jQswv_DUbfT1",
        "colab_type": "code",
        "colab": {}
      },
      "cell_type": "code",
      "source": [
        "df_arsenal = pd.concat([arsenal, auba, ozil, emery, xhaka, emirates, gunner, leno, afc], ignore_index=True)"
      ],
      "execution_count": 0,
      "outputs": []
    },
    {
      "metadata": {
        "id": "fgUg8vpRddcU",
        "colab_type": "code",
        "outputId": "5718a22d-33e1-4d29-c4fb-effdb6766987",
        "colab": {
          "base_uri": "https://localhost:8080/",
          "height": 34
        }
      },
      "cell_type": "code",
      "source": [
        "# checking the number of duplicates\n",
        "df_arsenal[df_arsenal['text'].duplicated() == True].shape"
      ],
      "execution_count": 18,
      "outputs": [
        {
          "output_type": "execute_result",
          "data": {
            "text/plain": [
              "(2657, 9)"
            ]
          },
          "metadata": {
            "tags": []
          },
          "execution_count": 18
        }
      ]
    },
    {
      "metadata": {
        "id": "s04eW_D-fVu7",
        "colab_type": "code",
        "outputId": "291b27f7-8ef8-4ee3-bc90-3a1717dc37e3",
        "colab": {
          "base_uri": "https://localhost:8080/",
          "height": 34
        }
      },
      "cell_type": "code",
      "source": [
        "df_arsenal.shape"
      ],
      "execution_count": 19,
      "outputs": [
        {
          "output_type": "execute_result",
          "data": {
            "text/plain": [
              "(14689, 9)"
            ]
          },
          "metadata": {
            "tags": []
          },
          "execution_count": 19
        }
      ]
    },
    {
      "metadata": {
        "id": "7Ik-zr5QfMeJ",
        "colab_type": "code",
        "colab": {}
      },
      "cell_type": "code",
      "source": [
        "# drop duplicates\n",
        "df_arsenal = df_arsenal.drop_duplicates('text', keep='last')"
      ],
      "execution_count": 0,
      "outputs": []
    },
    {
      "metadata": {
        "id": "KRT_Xh6RdueI",
        "colab_type": "text"
      },
      "cell_type": "markdown",
      "source": [
        "### creating a new dataframe for united"
      ]
    },
    {
      "metadata": {
        "id": "l_4kLf1xk9Be",
        "colab_type": "code",
        "colab": {}
      },
      "cell_type": "code",
      "source": [
        "united = df[df['text'].str.contains('United')]\n",
        "ole = df[df['text'].str.contains('Ole')]\n",
        "manchester = df[df['text'].str.contains('Manchester')]\n",
        "de_gea = df[df['text'].str.contains('De Gea')]\n",
        "lukaku = df[df['text'].str.contains('Lukaku')]\n",
        "rashford = df[df['text'].str.contains('Rashford')]\n",
        "pogba = df[df['text'].str.contains('Pogba')]\n",
        "mufc = df[df['text'].str.contains('#MUFC')]\n",
        "ggmu = df[df['text'].str.contains('GGMU')]\n",
        "fred = df[df['text'].str.contains('Fred')]"
      ],
      "execution_count": 0,
      "outputs": []
    },
    {
      "metadata": {
        "id": "7ip_fh_mHklp",
        "colab_type": "code",
        "colab": {}
      },
      "cell_type": "code",
      "source": [
        "df_united = pd.concat([united, ole, manchester, de_gea, lukaku, rashford, pogba, mufc, ggmu, fred], ignore_index=True)"
      ],
      "execution_count": 0,
      "outputs": []
    },
    {
      "metadata": {
        "id": "LJIQmWSZwLwx",
        "colab_type": "code",
        "outputId": "10e5b185-2f32-4432-aa0a-d596a57a9bab",
        "colab": {
          "base_uri": "https://localhost:8080/",
          "height": 34
        }
      },
      "cell_type": "code",
      "source": [
        "# checking the number of duplicates\n",
        "df_united[df_united['text'].duplicated() == True].shape"
      ],
      "execution_count": 23,
      "outputs": [
        {
          "output_type": "execute_result",
          "data": {
            "text/plain": [
              "(4295, 9)"
            ]
          },
          "metadata": {
            "tags": []
          },
          "execution_count": 23
        }
      ]
    },
    {
      "metadata": {
        "id": "SQwG59lgfbfz",
        "colab_type": "code",
        "colab": {}
      },
      "cell_type": "code",
      "source": [
        "# drop duplicates\n",
        "df_united = df_united.drop_duplicates('text', keep='last')"
      ],
      "execution_count": 0,
      "outputs": []
    },
    {
      "metadata": {
        "id": "Jizo12utHsva",
        "colab_type": "code",
        "outputId": "dc82a9d5-e5b9-4dfd-a53f-8d8582827f4c",
        "colab": {
          "base_uri": "https://localhost:8080/",
          "height": 34
        }
      },
      "cell_type": "code",
      "source": [
        "df_united.shape"
      ],
      "execution_count": 25,
      "outputs": [
        {
          "output_type": "execute_result",
          "data": {
            "text/plain": [
              "(10247, 9)"
            ]
          },
          "metadata": {
            "tags": []
          },
          "execution_count": 25
        }
      ]
    },
    {
      "metadata": {
        "id": "hjTs99QVOwWD",
        "colab_type": "code",
        "colab": {}
      },
      "cell_type": "code",
      "source": [
        "df.to_csv('modified.csv')"
      ],
      "execution_count": 0,
      "outputs": []
    },
    {
      "metadata": {
        "id": "W__8W5G8WePv",
        "colab_type": "code",
        "outputId": "c4c94c62-4339-4e4b-fdde-3877ccc4beff",
        "colab": {
          "base_uri": "https://localhost:8080/",
          "height": 34
        }
      },
      "cell_type": "code",
      "source": [
        "df[df['text'].str.contains('Gooner')].shape"
      ],
      "execution_count": 27,
      "outputs": [
        {
          "output_type": "execute_result",
          "data": {
            "text/plain": [
              "(187, 9)"
            ]
          },
          "metadata": {
            "tags": []
          },
          "execution_count": 27
        }
      ]
    },
    {
      "metadata": {
        "id": "uy5bseT4dZoy",
        "colab_type": "code",
        "colab": {}
      },
      "cell_type": "code",
      "source": [
        "temp = pd.concat([df_arsenal, df_united], ignore_index=True)"
      ],
      "execution_count": 0,
      "outputs": []
    },
    {
      "metadata": {
        "id": "Bu91FJ_Gxvq2",
        "colab_type": "code",
        "colab": {}
      },
      "cell_type": "code",
      "source": [
        "temp = temp.drop_duplicates('text', keep='last')"
      ],
      "execution_count": 0,
      "outputs": []
    },
    {
      "metadata": {
        "id": "EtE7oGSpx3Bt",
        "colab_type": "code",
        "colab": {}
      },
      "cell_type": "code",
      "source": [
        "dif = df[(~df.text.isin(temp.text))]"
      ],
      "execution_count": 0,
      "outputs": []
    },
    {
      "metadata": {
        "id": "brY1_pAfyIrU",
        "colab_type": "code",
        "colab": {}
      },
      "cell_type": "code",
      "source": [
        "dif.to_csv('dif.csv')"
      ],
      "execution_count": 0,
      "outputs": []
    },
    {
      "metadata": {
        "id": "wE7EaAPM1A2h",
        "colab_type": "text"
      },
      "cell_type": "markdown",
      "source": [
        "### separating tweets word by word and assigning tweet id for arsenal"
      ]
    },
    {
      "metadata": {
        "id": "81G3MrIFhA3x",
        "colab_type": "code",
        "colab": {}
      },
      "cell_type": "code",
      "source": [
        "df_arsenal['tid'] = df_arsenal.index + 1"
      ],
      "execution_count": 0,
      "outputs": []
    },
    {
      "metadata": {
        "id": "fyVc-vJ_ky50",
        "colab_type": "code",
        "colab": {}
      },
      "cell_type": "code",
      "source": [
        "# token to separate words into list\n",
        "# from nltk import wordpunct_tokenize\n",
        "# >>> wordpunct_tokenize(\"That's thirty minutes away. I'll be there in ten.\")\n",
        "# ['That', \"'\", 's', 'thirty', 'minutes', 'away', '.', 'I', \"'\", 'll', 'be', 'there', 'in', 'ten', '.']\n",
        "\n",
        "l_arsenal = []\n",
        "for i in df_arsenal['text']:\n",
        "  l_arsenal.append(wordpunct_tokenize(i))  "
      ],
      "execution_count": 0,
      "outputs": []
    },
    {
      "metadata": {
        "id": "OYWbWUR7vHE2",
        "colab_type": "code",
        "colab": {}
      },
      "cell_type": "code",
      "source": [
        "total_arsenal = []\n",
        "count = 0\n",
        "list_tweet_id = []\n",
        "word = []\n",
        "for i in l_arsenal:\n",
        "    c = len(i)\n",
        "    count += 1\n",
        "    t = 'T'+str(count)\n",
        "    word.append(t)\n",
        "    total_arsenal += i\n",
        "    list_tweet_id.append(c * word)\n",
        "    word = []"
      ],
      "execution_count": 0,
      "outputs": []
    },
    {
      "metadata": {
        "id": "9T2As1qAtkLP",
        "colab_type": "code",
        "colab": {}
      },
      "cell_type": "code",
      "source": [
        "check = []\n",
        "for i in list_tweet_id:\n",
        "    check += i"
      ],
      "execution_count": 0,
      "outputs": []
    },
    {
      "metadata": {
        "id": "gkX2vzb8j6XE",
        "colab_type": "code",
        "colab": {
          "base_uri": "https://localhost:8080/",
          "height": 34
        },
        "outputId": "24969899-877a-4696-96a2-8c1793bbc5d4"
      },
      "cell_type": "code",
      "source": [
        "len(total_arsenal)"
      ],
      "execution_count": 110,
      "outputs": [
        {
          "output_type": "execute_result",
          "data": {
            "text/plain": [
              "286322"
            ]
          },
          "metadata": {
            "tags": []
          },
          "execution_count": 110
        }
      ]
    },
    {
      "metadata": {
        "id": "IbKsR0KqtmYz",
        "colab_type": "code",
        "colab": {
          "base_uri": "https://localhost:8080/",
          "height": 34
        },
        "outputId": "ae31d7b6-f480-4232-f6f2-518602840cdf"
      },
      "cell_type": "code",
      "source": [
        "len(check)"
      ],
      "execution_count": 111,
      "outputs": [
        {
          "output_type": "execute_result",
          "data": {
            "text/plain": [
              "286322"
            ]
          },
          "metadata": {
            "tags": []
          },
          "execution_count": 111
        }
      ]
    },
    {
      "metadata": {
        "id": "BuhyYNJMvxL_",
        "colab_type": "code",
        "colab": {}
      },
      "cell_type": "code",
      "source": [
        "words_arsenal = pd.DataFrame(columns = ['words','id'])\n",
        "words_arsenal['words'] = total_arsenal\n",
        "words_arsenal['id'] = check"
      ],
      "execution_count": 0,
      "outputs": []
    },
    {
      "metadata": {
        "id": "rp6A1TUKw4xB",
        "colab_type": "code",
        "outputId": "1c7ae544-0011-40e8-d364-660545a4fc22",
        "colab": {
          "base_uri": "https://localhost:8080/",
          "height": 204
        }
      },
      "cell_type": "code",
      "source": [
        "words_arsenal.head()"
      ],
      "execution_count": 119,
      "outputs": [
        {
          "output_type": "execute_result",
          "data": {
            "text/html": [
              "<div>\n",
              "<style scoped>\n",
              "    .dataframe tbody tr th:only-of-type {\n",
              "        vertical-align: middle;\n",
              "    }\n",
              "\n",
              "    .dataframe tbody tr th {\n",
              "        vertical-align: top;\n",
              "    }\n",
              "\n",
              "    .dataframe thead th {\n",
              "        text-align: right;\n",
              "    }\n",
              "</style>\n",
              "<table border=\"1\" class=\"dataframe\">\n",
              "  <thead>\n",
              "    <tr style=\"text-align: right;\">\n",
              "      <th></th>\n",
              "      <th>words</th>\n",
              "      <th>id</th>\n",
              "    </tr>\n",
              "  </thead>\n",
              "  <tbody>\n",
              "    <tr>\n",
              "      <th>0</th>\n",
              "      <td>Romelu</td>\n",
              "      <td>T1</td>\n",
              "    </tr>\n",
              "    <tr>\n",
              "      <th>1</th>\n",
              "      <td>Lukaku</td>\n",
              "      <td>T1</td>\n",
              "    </tr>\n",
              "    <tr>\n",
              "      <th>2</th>\n",
              "      <td>spotted</td>\n",
              "      <td>T1</td>\n",
              "    </tr>\n",
              "    <tr>\n",
              "      <th>3</th>\n",
              "      <td>somewhere</td>\n",
              "      <td>T1</td>\n",
              "    </tr>\n",
              "    <tr>\n",
              "      <th>4</th>\n",
              "      <td>in</td>\n",
              "      <td>T1</td>\n",
              "    </tr>\n",
              "  </tbody>\n",
              "</table>\n",
              "</div>"
            ],
            "text/plain": [
              "       words  id\n",
              "0     Romelu  T1\n",
              "1     Lukaku  T1\n",
              "2    spotted  T1\n",
              "3  somewhere  T1\n",
              "4         in  T1"
            ]
          },
          "metadata": {
            "tags": []
          },
          "execution_count": 119
        }
      ]
    },
    {
      "metadata": {
        "id": "ccn4z-fzI2ls",
        "colab_type": "code",
        "colab": {}
      },
      "cell_type": "code",
      "source": [
        "csv_words_arsenal = words_arsenal.groupby('words').size().sort_values(ascending = False)\n",
        "csv_words_arsenal.to_csv('words_arsenal.csv')"
      ],
      "execution_count": 0,
      "outputs": []
    },
    {
      "metadata": {
        "colab_type": "text",
        "id": "eHEiUIpavI7U"
      },
      "cell_type": "markdown",
      "source": [
        "### calculate TFIDF"
      ]
    },
    {
      "metadata": {
        "id": "Bf6cBtytoN3i",
        "colab_type": "code",
        "colab": {}
      },
      "cell_type": "code",
      "source": [
        "# calculates the number of times that a term appears in each abstract. \n",
        "words_arsenal.groupby(['words','id']).size()"
      ],
      "execution_count": 0,
      "outputs": []
    },
    {
      "metadata": {
        "id": "x_FBqeeVsWG2",
        "colab_type": "code",
        "colab": {}
      },
      "cell_type": "code",
      "source": [
        "# counts the number of articles in which a term appears\n",
        "words_arsenal.groupby(['id','words']).size()"
      ],
      "execution_count": 0,
      "outputs": []
    },
    {
      "metadata": {
        "id": "w3F8zPNG1Onq",
        "colab_type": "text"
      },
      "cell_type": "markdown",
      "source": [
        "### separating tweets word by word and assigning tweet id for united"
      ]
    },
    {
      "metadata": {
        "id": "z5M9UQ4VwHiG",
        "colab_type": "code",
        "colab": {}
      },
      "cell_type": "code",
      "source": [
        "# token to separate words into list\n",
        "# from nltk import wordpunct_tokenize\n",
        "# >>> wordpunct_tokenize(\"That's thirty minutes away. I'll be there in ten.\")\n",
        "# ['That', \"'\", 's', 'thirty', 'minutes', 'away', '.', 'I', \"'\", 'll', 'be', 'there', 'in', 'ten', '.']\n",
        "\n",
        "l_united = []\n",
        "for i in df_united['text']:\n",
        "  l_united.append(wordpunct_tokenize(i))  "
      ],
      "execution_count": 0,
      "outputs": []
    },
    {
      "metadata": {
        "id": "-LfLV_-U1TJG",
        "colab_type": "code",
        "colab": {}
      },
      "cell_type": "code",
      "source": [
        "total_united = []\n",
        "count = 0\n",
        "list_tweet_id = []\n",
        "word = []\n",
        "for i in l_united:\n",
        "    c = len(i)\n",
        "    count += 1\n",
        "    t = 'T'+str(count)\n",
        "    word.append(t)\n",
        "    total_united += i\n",
        "    list_tweet_id.append(c * word)\n",
        "    word = []"
      ],
      "execution_count": 0,
      "outputs": []
    },
    {
      "metadata": {
        "id": "zSjJ6Nj71kaH",
        "colab_type": "code",
        "colab": {}
      },
      "cell_type": "code",
      "source": [
        "check = []\n",
        "for i in list_tweet_id:\n",
        "    check += i"
      ],
      "execution_count": 0,
      "outputs": []
    },
    {
      "metadata": {
        "id": "_JqncNoC1oAY",
        "colab_type": "code",
        "colab": {}
      },
      "cell_type": "code",
      "source": [
        "words_united = pd.DataFrame(columns = ['words','id'])\n",
        "words_united['words'] = total_united\n",
        "words_united['id'] = check"
      ],
      "execution_count": 0,
      "outputs": []
    },
    {
      "metadata": {
        "id": "w5iZcqh11ta8",
        "colab_type": "code",
        "colab": {}
      },
      "cell_type": "code",
      "source": [
        "csv_words_united = words_united.groupby('words').size().sort_values(ascending = False)\n",
        "csv_words_united.to_csv('words_united.csv')"
      ],
      "execution_count": 0,
      "outputs": []
    },
    {
      "metadata": {
        "id": "m-GdKT0G14YK",
        "colab_type": "text"
      },
      "cell_type": "markdown",
      "source": [
        "### calculate TFIDF (United)"
      ]
    },
    {
      "metadata": {
        "id": "9Iuk077b1z-D",
        "colab_type": "code",
        "colab": {
          "base_uri": "https://localhost:8080/",
          "height": 1088
        },
        "outputId": "82c8e256-832c-4038-cbbe-7d8f4a4f9ab5"
      },
      "cell_type": "code",
      "source": [
        "# calculates the number of times that a term appears in each abstract. \n",
        "words_united.groupby(['words','id']).size()"
      ],
      "execution_count": 141,
      "outputs": [
        {
          "output_type": "execute_result",
          "data": {
            "text/plain": [
              "words  id    \n",
              "!      T10002     1\n",
              "       T10012     1\n",
              "       T10025     3\n",
              "       T10030     1\n",
              "       T1004      1\n",
              "       T10040     1\n",
              "       T10042     1\n",
              "       T10045     1\n",
              "       T10047     1\n",
              "       T10049     1\n",
              "       T1005      1\n",
              "       T10050     1\n",
              "       T10064     1\n",
              "       T10073     2\n",
              "       T10074     1\n",
              "       T10075     1\n",
              "       T10076     1\n",
              "       T10098     1\n",
              "       T1012      1\n",
              "       T10127     1\n",
              "       T10129     1\n",
              "       T10137     1\n",
              "       T10139     1\n",
              "       T10144     1\n",
              "       T10147     1\n",
              "       T10150     1\n",
              "       T10162     1\n",
              "       T10165     1\n",
              "       T10166     2\n",
              "       T10170     1\n",
              "                 ..\n",
              "≥      T8526      2\n",
              "       T9174      1\n",
              "       T9292      2\n",
              "       T9320      3\n",
              "       T9383      3\n",
              "       T9625      2\n",
              "≥‚     T3630      3\n",
              "       T3677      2\n",
              "       T3842      2\n",
              "       T3865      2\n",
              "       T8017      3\n",
              "       T8018      3\n",
              "       T8019      3\n",
              "       T8183      3\n",
              "≥„     T10038     1\n",
              "       T2604      1\n",
              "       T6870      1\n",
              "       T6923      1\n",
              "       T7119      1\n",
              "       T7455      1\n",
              "       T7657      2\n",
              "       T8143      1\n",
              "       T8229      1\n",
              "       T8403      1\n",
              "       T8411      2\n",
              "       T8484      1\n",
              "       T8545      1\n",
              "≥€     T7590      1\n",
              "      T3616     20\n",
              "       T3835     20\n",
              "Length: 201287, dtype: int64"
            ]
          },
          "metadata": {
            "tags": []
          },
          "execution_count": 141
        }
      ]
    },
    {
      "metadata": {
        "id": "VvaEIEVE11ZE",
        "colab_type": "code",
        "colab": {}
      },
      "cell_type": "code",
      "source": [
        "# counts the number of articles in which a term appears\n",
        "words_united.groupby(['id','words']).size()"
      ],
      "execution_count": 0,
      "outputs": []
    }
  ]
}